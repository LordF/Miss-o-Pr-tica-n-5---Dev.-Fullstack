{
  "nbformat": 4,
  "nbformat_minor": 0,
  "metadata": {
    "colab": {
      "provenance": []
    },
    "kernelspec": {
      "name": "python3",
      "display_name": "Python 3"
    },
    "language_info": {
      "name": "python"
    }
  },
  "cells": [
    {
      "cell_type": "markdown",
      "source": [
        "<img src='https://logodownload.org/wp-content/uploads/2014/12/estacio-logo.png' width=\"300\">\n",
        "\n",
        "## **Campus Cachoeirinha - Graduação Full Stack**\n",
        "### Colocando tudo em ordem e guardando - Turma 22.3 - 1º semestre\n",
        "### Aluno: Fagner Luiz Gimenez Mendes"
      ],
      "metadata": {
        "id": "ZBGM-MIXV7-_"
      }
    },
    {
      "cell_type": "markdown",
      "source": [
        "## **Missão Prática Nível 5** <br>\n",
        "##**Colocando tudo em ordem e guardando**"
      ],
      "metadata": {
        "id": "fmmTP4AsXNym"
      }
    },
    {
      "cell_type": "markdown",
      "source": [
        "## **Objetivo**\n",
        "Gerar, gravar e recuperar dados de arquivos textos. \n",
        "Manipular os dados para visualizá-los em um histograma e uma nuvem de palavras.\n",
        "Implementar um programa para gerar dados com nomes de pessoas e respectivas pontuações, gravas em um arquivo, recuperar os dados do arquivo, visualizar os dados das pontuações das pessoas em um histograma e em uma nuvem de palavras."
      ],
      "metadata": {
        "id": "1REdK0-xWW_Z"
      }
    },
    {
      "cell_type": "markdown",
      "source": [
        "## **Instalação dos pacotes**"
      ],
      "metadata": {
        "id": "NA0LxMB_WmDL"
      }
    },
    {
      "cell_type": "code",
      "execution_count": 2,
      "metadata": {
        "colab": {
          "base_uri": "https://localhost:8080/"
        },
        "id": "mko79K_fCniF",
        "outputId": "9f261aeb-8ec4-4b80-92fd-cf215684dcaf"
      },
      "outputs": [
        {
          "output_type": "stream",
          "name": "stdout",
          "text": [
            "Looking in indexes: https://pypi.org/simple, https://us-python.pkg.dev/colab-wheels/public/simple/\n",
            "Requirement already satisfied: faker in /usr/local/lib/python3.7/dist-packages (15.3.3)\n",
            "Requirement already satisfied: typing-extensions>=3.10.0.1 in /usr/local/lib/python3.7/dist-packages (from faker) (4.1.1)\n",
            "Requirement already satisfied: python-dateutil>=2.4 in /usr/local/lib/python3.7/dist-packages (from faker) (2.8.2)\n",
            "Requirement already satisfied: six>=1.5 in /usr/local/lib/python3.7/dist-packages (from python-dateutil>=2.4->faker) (1.15.0)\n",
            "Looking in indexes: https://pypi.org/simple, https://us-python.pkg.dev/colab-wheels/public/simple/\n",
            "Requirement already satisfied: wordcloud in /usr/local/lib/python3.7/dist-packages (1.8.2.2)\n",
            "Requirement already satisfied: numpy>=1.6.1 in /usr/local/lib/python3.7/dist-packages (from wordcloud) (1.21.6)\n",
            "Requirement already satisfied: pillow in /usr/local/lib/python3.7/dist-packages (from wordcloud) (7.1.2)\n",
            "Requirement already satisfied: matplotlib in /usr/local/lib/python3.7/dist-packages (from wordcloud) (3.2.2)\n",
            "Requirement already satisfied: python-dateutil>=2.1 in /usr/local/lib/python3.7/dist-packages (from matplotlib->wordcloud) (2.8.2)\n",
            "Requirement already satisfied: pyparsing!=2.0.4,!=2.1.2,!=2.1.6,>=2.0.1 in /usr/local/lib/python3.7/dist-packages (from matplotlib->wordcloud) (3.0.9)\n",
            "Requirement already satisfied: cycler>=0.10 in /usr/local/lib/python3.7/dist-packages (from matplotlib->wordcloud) (0.11.0)\n",
            "Requirement already satisfied: kiwisolver>=1.0.1 in /usr/local/lib/python3.7/dist-packages (from matplotlib->wordcloud) (1.4.4)\n",
            "Requirement already satisfied: typing-extensions in /usr/local/lib/python3.7/dist-packages (from kiwisolver>=1.0.1->matplotlib->wordcloud) (4.1.1)\n",
            "Requirement already satisfied: six>=1.5 in /usr/local/lib/python3.7/dist-packages (from python-dateutil>=2.1->matplotlib->wordcloud) (1.15.0)\n",
            "Looking in indexes: https://pypi.org/simple, https://us-python.pkg.dev/colab-wheels/public/simple/\n",
            "Requirement already satisfied: num2words in /usr/local/lib/python3.7/dist-packages (0.5.12)\n",
            "Requirement already satisfied: docopt>=0.6.2 in /usr/local/lib/python3.7/dist-packages (from num2words) (0.6.2)\n"
          ]
        }
      ],
      "source": [
        "!pip install faker\n",
        "!pip install wordcloud\n",
        "!pip install num2words"
      ]
    },
    {
      "cell_type": "markdown",
      "source": [
        "## **Geração do banco de dados**"
      ],
      "metadata": {
        "id": "lKJhDulIWuIC"
      }
    },
    {
      "cell_type": "code",
      "source": [
        "import matplotlib.pyplot as plt\n",
        "from num2words import num2words\n",
        "from faker import Faker\n",
        "from wordcloud import WordCloud\n",
        "\n",
        "fake = Faker('pt-br')\n",
        "\n",
        "with open('notas.txt','w') as arquivo:\n",
        "  for i in range(20):\n",
        "    nomes_notas = fake.name() + ' ' + str(fake.random_int(1,10)) + ' \\n'\n",
        "    arquivo.write(nomes_notas)"
      ],
      "metadata": {
        "id": "afbzrQFxETut"
      },
      "execution_count": 3,
      "outputs": []
    },
    {
      "cell_type": "code",
      "source": [
        "with open('notas.txt', 'r') as arquivo:\n",
        "  notas = []\n",
        "  for i in range(20):\n",
        "    lista = arquivo.readline()\n",
        "    lista1 = lista.split(' ')\n",
        "    notas.append(int(lista1[-2]))"
      ],
      "metadata": {
        "id": "Kfagp-C9LCVp"
      },
      "execution_count": 4,
      "outputs": []
    },
    {
      "cell_type": "markdown",
      "source": [
        "## **Histograma**"
      ],
      "metadata": {
        "id": "HXBu66NLW0Xo"
      }
    },
    {
      "cell_type": "code",
      "source": [
        "plt.hist(notas,density=True, facecolor='crimson', alpha=0.75)\n",
        "plt.xlabel('Pontuações')\n",
        "plt.ylabel('Probabilidade')\n",
        "plt.title('Histograma das Pontuações')\n",
        "plt.grid(True)\n",
        "plt.show()"
      ],
      "metadata": {
        "colab": {
          "base_uri": "https://localhost:8080/",
          "height": 295
        },
        "id": "jspx19GBOJib",
        "outputId": "1c0e2d7c-41e1-4a33-9264-ca6964b1d55a"
      },
      "execution_count": 9,
      "outputs": [
        {
          "output_type": "display_data",
          "data": {
            "text/plain": [
              "<Figure size 432x288 with 1 Axes>"
            ],
            "image/png": "[encoded data removed]"
          },
          "metadata": {
            "needs_background": "light"
          }
        }
      ]
    },
    {
      "cell_type": "markdown",
      "source": [
        "## **WordCloud**"
      ],
      "metadata": {
        "id": "xgTO3SlDW34a"
      }
    },
    {
      "cell_type": "code",
      "source": [
        "notas_string = []\n",
        "for i in notas:\n",
        "  notas_string.append(num2words(i, lang='pt-br'))\n",
        "cloud = ', '.join(p for p in notas_string)\n",
        "nuvem_palavras = WordCloud(background_color='pink').generate(cloud)\n",
        "plt.imshow(nuvem_palavras, interpolation='bilinear')\n",
        "plt.axis(\"off\")\n",
        "plt.show()\n",
        "nuvem_palavras.to_file(\"Nuvem de palavras.png\")\n"
      ],
      "metadata": {
        "colab": {
          "base_uri": "https://localhost:8080/",
          "height": 216
        },
        "id": "0Rj_JMj4PLt6",
        "outputId": "5e541dd3-d20a-4c4a-e70b-7a587c9ba30d"
      },
      "execution_count": 13,
      "outputs": [
        {
          "output_type": "display_data",
          "data": {
            "text/plain": [
              "<Figure size 432x288 with 1 Axes>"
            ],
            "image/png": "[encoded data removed]"
          },
          "metadata": {
            "needs_background": "light"
          }
        },
        {
          "output_type": "execute_result",
          "data": {
            "text/plain": [
              "'três, cinco, seis, um, oito, dois, oito, oito, cinco, seis, um, um, três, dez, dez, um, sete, oito, dois, dez'"
            ],
            "application/vnd.google.colaboratory.intrinsic+json": {
              "type": "string"
            }
          },
          "metadata": {},
          "execution_count": 13
        }
      ]
    },
    {
      "cell_type": "markdown",
      "source": [
        "## **Análise e Conclusão**"
      ],
      "metadata": {
        "id": "7bUCAU4pY39C"
      }
    },
    {
      "cell_type": "markdown",
      "source": [
        "Qual a importância de manipular arquivos de texto?<br>\n",
        "R: É uma boa maneira tanto de salvar informações que estão em numa aplicação em um arquivo externo como captar informações de um arquivo externo para colocá-las na aplicação que está sendo executada. Uma forma bem fácil é salvar essas informações em um arquivo de texto.\n"
      ],
      "metadata": {
        "id": "rioYJNq_ZBT7"
      }
    },
    {
      "cell_type": "markdown",
      "source": [
        "Qual a importância de visualizar os dados em um histograma?<br>\n",
        "R: Resumir grandes conjuntos de dados de forma visual, comunicar as informações graficamente e fazer comparação entre os dados com parâmetros que forem necessários.\n"
      ],
      "metadata": {
        "id": "0fzxnrDIZC-f"
      }
    },
    {
      "cell_type": "markdown",
      "source": [
        "O que significa a visualização por nuvem de palavras?<br>\n",
        "R:Uma nuvem de palavras é uma coleção ou agrupamento de palavras representadas em tamanhos diferentes. O tamanho da palavra é proporcional à frequência que ela aparece no dados utilisados."
      ],
      "metadata": {
        "id": "NBqTV7dGZEWu"
      }
    }
  ]
}